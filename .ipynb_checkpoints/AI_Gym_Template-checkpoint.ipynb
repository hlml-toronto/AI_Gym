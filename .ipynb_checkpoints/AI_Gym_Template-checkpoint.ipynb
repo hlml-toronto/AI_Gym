{
 "cells": [
  {
   "cell_type": "markdown",
   "metadata": {},
   "source": [
    "# OpenAI Gym\n",
    "This notebook serves as a simple working example of how to interact with OpenAI's AI Gym.\n",
    "\n",
    "## Environment Setup\n",
    "1. Install swig: https://www.dev2qa.com/how-to-install-swig-on-macos-linux-and-windows/\n",
    "2. Set up a python venv (optional):\n",
    "\n",
    "`pip3 install virtualenv`\n",
    "\n",
    "`python3 -m virtualenv venv`\n",
    "\n",
    "`source venv/bin/activate`\n",
    "\n",
    "3. Install required python packages:\n",
    "`pip3 install gym==0.17.2 box2d-py==2.3.8`\n"
   ]
  },
  {
   "cell_type": "code",
   "execution_count": 1,
   "metadata": {},
   "outputs": [],
   "source": [
    "import numpy as np\n",
    "import gym\n",
    "\n",
    "import matplotlib.pyplot as plt\n",
    "%matplotlib inline"
   ]
  },
  {
   "cell_type": "markdown",
   "metadata": {},
   "source": [
    "The following variables are used for defining the actions and states of the game \"LunarLander-v2\""
   ]
  },
  {
   "cell_type": "code",
   "execution_count": 2,
   "metadata": {},
   "outputs": [],
   "source": [
    "STATE_SPACE = 8\n",
    "ACTION_SPACE = 4\n",
    "ENV = gym.make(\"LunarLander-v2\")\n",
    "\n",
    "# actions\n",
    "DO_NOTHING = 0\n",
    "LEFT_ENGINE = 1\n",
    "MAIN_ENGINE = 2\n",
    "RIGHT_ENGINE = 3\n",
    "\n",
    "# state\n",
    "X_POS = 0\n",
    "Y_POS = 1\n",
    "X_SPEED = 2\n",
    "Y_SPEED = 3\n",
    "ANGLE = 4\n",
    "ANGLE_SPEED = 5\n",
    "FIRST_LEG = 6\n",
    "SECOND_LEG = 7\n"
   ]
  },
  {
   "cell_type": "markdown",
   "metadata": {},
   "source": [
    "Now we'll define the basic interface with the game. The game is essentially a very rapid turn-based game. In each round, there are 2 main steps:\n",
    "1. An action is taken by the agent.\n",
    "2. The game updates according to its current state and the input action from the agent."
   ]
  },
  {
   "cell_type": "code",
   "execution_count": 3,
   "metadata": {},
   "outputs": [],
   "source": [
    "def play_game(agent, env, score_augmentation=False, show=False, verbose=False):\n",
    "    state = env.reset()\n",
    "    cumulative_score = 0\n",
    "    if show:\n",
    "        env.render()\n",
    "    for step in range(500):\n",
    "        action = agent(state)\n",
    "        state, reward, terminal, info = env.step(action)\n",
    "        if verbose:\n",
    "            print(state)\n",
    "        if show:\n",
    "            env.render()\n",
    "        cumulative_score += reward\n",
    "    env.close()\n",
    "    return cumulative_score"
   ]
  },
  {
   "cell_type": "markdown",
   "metadata": {},
   "source": [
    "Finally, we'll define a couple of test agents to play with."
   ]
  },
  {
   "cell_type": "code",
   "execution_count": 4,
   "metadata": {},
   "outputs": [],
   "source": [
    "def random_agent(state):\n",
    "    \"\"\"This agent returns random actions.\"\"\"\n",
    "    return int(np.random.rand() * 4)\n",
    "\n",
    "\n",
    "def stupid_agent(state):\n",
    "    \"\"\"A very simple expert system.\"\"\"\n",
    "    if state[FIRST_LEG] == 1 and state[SECOND_LEG] == 1:\n",
    "        return DO_NOTHING\n",
    "    if state[Y_SPEED] < -0.2:\n",
    "        return MAIN_ENGINE\n",
    "    if state[ANGLE] < -0.1:\n",
    "        return LEFT_ENGINE\n",
    "    if state[ANGLE] > 0.1:\n",
    "        return RIGHT_ENGINE\n",
    "    return DO_NOTHING"
   ]
  },
  {
   "cell_type": "code",
   "execution_count": 5,
   "metadata": {},
   "outputs": [
    {
     "data": {
      "text/plain": [
       "-30423.489107935253"
      ]
     },
     "execution_count": 5,
     "metadata": {},
     "output_type": "execute_result"
    }
   ],
   "source": [
    "my_agent = stupid_agent\n",
    "play_game(my_agent, ENV, show=True, verbose=False)"
   ]
  }
 ],
 "metadata": {
  "kernelspec": {
   "display_name": "Python 3",
   "language": "python",
   "name": "python3"
  },
  "language_info": {
   "codemirror_mode": {
    "name": "ipython",
    "version": 3
   },
   "file_extension": ".py",
   "mimetype": "text/x-python",
   "name": "python",
   "nbconvert_exporter": "python",
   "pygments_lexer": "ipython3",
   "version": "3.8.5"
  }
 },
 "nbformat": 4,
 "nbformat_minor": 4
}
