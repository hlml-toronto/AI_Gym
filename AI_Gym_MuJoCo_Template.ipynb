{
 "cells": [
  {
   "cell_type": "markdown",
   "metadata": {},
   "source": [
    "# OpenAI Gym with MuJoCo\n",
    "This notebook serves as a simple working example of how to interact with the humanoid model from OpenAI's AI Gym.\n",
    "\n",
    "## Environment Setup\n",
    "The following steps are to set up a basic virtual environment for the OpenAI gym:\n",
    "1. Install swig: https://www.dev2qa.com/how-to-install-swig-on-macos-linux-and-windows/\n",
    "2. Set up a python venv (optional):\n",
    "\n",
    "`pip3 install virtualenv`\n",
    "\n",
    "`python3 -m virtualenv venv`\n",
    "\n",
    "`source venv/bin/activate`\n",
    "\n",
    "3. Install required python packages:\n",
    "`pip3 install gym==0.17.2 box2d-py==2.3.8`\n",
    "\n",
    "The next steps are for setting up MuJoCo. This physics engine requires a license (an annual 1 year free license is available for students working on personal projects) and is only supported for Linux and OSX, with Python 3.6+. \n",
    "\n",
    "4. Ensure that the following packages are already installed:\n",
    "\n",
    "`libosmesa6-dev`\n",
    "\n",
    "`libgl1-mesa-glx`\n",
    "\n",
    "`libglfw3`\n",
    "\n",
    "On Linux, this can be done with the command\n",
    "`apt list | grep <package>`\n",
    "\n",
    "5. Get a license from MuJoCo at https://www.roboti.us/license.html\n",
    "\n",
    "6. Download the zip file for Linux from https://www.roboti.us/download/mujoco200_linux.zip\n",
    "\n",
    "7. Unzip the downloaded mujoco200 directory into \n",
    "\n",
    "`~/.mujoco/mujoco200`\n",
    "\n",
    "(you may need to make .mujoco using `mkdir ~/.mujoco`) and place your license key (the mjkey.txt file from your email) at \n",
    "\n",
    "`~/.mujoco/mjkey.txt`\n",
    "\n",
    "8. Install mujoco-py, the python interface for the physics engine\n",
    "\n",
    "`pip3 install -U 'mujoco-py<2.1,>=2.0'`"
   ]
  },
  {
   "cell_type": "markdown",
   "metadata": {},
   "source": [
    "The following code should check that MuJoCo is installed correctly."
   ]
  },
  {
   "cell_type": "code",
   "execution_count": 1,
   "metadata": {},
   "outputs": [],
   "source": [
    "#Importing OpenAI gym package and MuJoCo engine\n",
    "import gym\n",
    "import mujoco_py\n",
    "#Setting MountainCar-v0 as the environment\n",
    "env = gym.make('FetchReach-v1')\n",
    "#Sets an initial state\n",
    "env.reset()\n",
    "# Rendering our instance 300 times\n",
    "for _ in range(300):\n",
    "  #renders the environment\n",
    "  env.render()\n",
    "  #Takes a random action from its action space \n",
    "  # aka the number of unique actions an agent can perform\n",
    "  env.step(env.action_space.sample())\n",
    "env.close()"
   ]
  }
 ],
 "metadata": {
  "kernelspec": {
   "display_name": "Python 3",
   "language": "python",
   "name": "python3"
  },
  "language_info": {
   "codemirror_mode": {
    "name": "ipython",
    "version": 3
   },
   "file_extension": ".py",
   "mimetype": "text/x-python",
   "name": "python",
   "nbconvert_exporter": "python",
   "pygments_lexer": "ipython3",
   "version": "3.7.5"
  }
 },
 "nbformat": 4,
 "nbformat_minor": 4
}
